{
 "cells": [
  {
   "cell_type": "code",
   "execution_count": 45,
   "metadata": {},
   "outputs": [],
   "source": [
    "#from fastapi import FastAPI\n",
    "import pandas as pd\n",
    "from sklearn.preprocessing import OrdinalEncoder\n",
    "from sklearn import tree\n",
    "from datetime import date\n",
    "from datetime import datetime\n",
    "#from fastapi import Request, FastAPI\n",
    "from sklearn.model_selection import train_test_split\n",
    "#from typing import Any, Dict, AnyStr, List, Union\n",
    "from pydantic import BaseModel\n",
    "import json\n",
    "import matplotlib.pyplot as plt\n",
    "from sklearn.tree import DecisionTreeClassifier"
   ]
  },
  {
   "cell_type": "markdown",
   "metadata": {},
   "source": [
    "**Desarrollo:**"
   ]
  },
  {
   "cell_type": "code",
   "execution_count": 46,
   "metadata": {},
   "outputs": [],
   "source": [
    "df = pd.read_excel(\"2. Datos para entrenar.xlsx\",engine='openpyxl')\n",
    "filtro=[]\n",
    "for i,j in enumerate(df['fecha_nacimiento']):\n",
    "    filter=type(df['fecha_nacimiento'][0])\n",
    "    if type(j)==filter:\n",
    "        filtro.append(True)\n",
    "    else:\n",
    "        filtro.append(False) \n",
    "df=df[filtro]\n",
    "edad=[]\n",
    "for k,h in enumerate(df['fecha_nacimiento']):\n",
    "    edad.append(2022-h.year)\n",
    "df['Edad']=edad"
   ]
  },
  {
   "cell_type": "code",
   "execution_count": 47,
   "metadata": {},
   "outputs": [],
   "source": [
    "salidas1= df[['consulta_id','cups_solictud','descripcion','cantidad','prescripcion','tipo','codigo_medicamento','descripcion_medicamento','cantidad_medicamento','prescripcion_medicamento']]\n",
    "entradas= df.drop(['diagnostico_secundario','diagnostico_terciario','cuarto_diagnostico','presentacion','fecha_nacimiento','cita_id','id_solicitud_enviada','medicamento_enviado',\"TEST_HERRERA_Y_HURTADO\",'cups_solictud','descripcion','cantidad','prescripcion','tipo','codigo_medicamento','descripcion_medicamento','cantidad_medicamento','prescripcion_medicamento'], axis=1)"
   ]
  },
  {
   "cell_type": "code",
   "execution_count": 48,
   "metadata": {},
   "outputs": [],
   "source": [
    "lines=df['diagnostico_principal'].drop_duplicates().to_list()\n",
    "with open('your_file.txt', 'w') as f:\n",
    "    for line in lines:\n",
    "        f.write(f\"{line}\\n\")"
   ]
  },
  {
   "cell_type": "code",
   "execution_count": 49,
   "metadata": {},
   "outputs": [],
   "source": [
    "salidas1=salidas1.fillna(0)\n",
    "entradas=entradas.fillna(0)"
   ]
  },
  {
   "cell_type": "code",
   "execution_count": 50,
   "metadata": {},
   "outputs": [],
   "source": [
    "cups_solictud=[]\n",
    "descripcion=[]\n",
    "cantidad=[]\n",
    "prescripcion=[]\n",
    "tipo=[]\n",
    "codigo_medicamento=[]\n",
    "descripcion_medicamento=[]\n",
    "cantidad_medicamento=[]\n",
    "prescripcion_medicamento=[]\n",
    "#presentacion=[]\n",
    "enes=[]\n",
    "for n in salidas1['consulta_id'].drop_duplicates():\n",
    "    if len(salidas1[salidas1['consulta_id']==n])>0:\n",
    "        cups_solictud1=' '\n",
    "        descripcion1=' '\n",
    "        cantidad1=' '\n",
    "        prescripcion1=' '\n",
    "        tipo1=' '\n",
    "        codigo_medicamento1=' '\n",
    "        descripcion_medicamento1=''\n",
    "        cantidad_medicamento1=''\n",
    "        prescripcion_medicamento1=''\n",
    "        #presentacion1=''\n",
    "        for k in range(len(salidas1[salidas1['consulta_id']==n])):\n",
    "            cups_solictud1=cups_solictud1+'-'+str(salidas1[salidas1['consulta_id']==n]['cups_solictud'].to_list()[k])\n",
    "            descripcion1=descripcion1+'-'+str(salidas1[salidas1['consulta_id']==n]['descripcion'].to_list()[k])\n",
    "            cantidad1=cantidad1+'-'+str(salidas1[salidas1['consulta_id']==n]['cantidad'].to_list()[k])\n",
    "            prescripcion1=prescripcion1+'-'+str(salidas1[salidas1['consulta_id']==n]['prescripcion'].to_list()[k])\n",
    "            tipo1=tipo1+'-'+str(salidas1[salidas1['consulta_id']==n]['tipo'].to_list()[k])\n",
    "            codigo_medicamento1=codigo_medicamento1+'-'+str(salidas1[salidas1['consulta_id']==n]['codigo_medicamento'].to_list()[k])\n",
    "            descripcion_medicamento1=descripcion_medicamento1+'-'+str(salidas1[salidas1['consulta_id']==n]['descripcion_medicamento'].to_list()[k])\n",
    "            cantidad_medicamento1=cantidad_medicamento1+'-'+str(salidas1[salidas1['consulta_id']==n]['cantidad_medicamento'].to_list()[k])\n",
    "            prescripcion_medicamento1=prescripcion_medicamento1+'-'+str(salidas1[salidas1['consulta_id']==n]['prescripcion_medicamento'].to_list()[k])\n",
    "            #presentacion1=presentacion1+'-'+str(salidas1[salidas1['consulta_id']==n]['presentacion'].to_list()[k])\n",
    "        cups_solictud.append(cups_solictud1)\n",
    "        descripcion.append(descripcion1)\n",
    "        cantidad.append(cantidad1)\n",
    "        prescripcion.append(prescripcion1)\n",
    "        tipo.append(tipo1)\n",
    "        codigo_medicamento.append(codigo_medicamento1)\n",
    "        descripcion_medicamento.append(descripcion_medicamento1)\n",
    "        cantidad_medicamento.append(cantidad_medicamento1)\n",
    "        prescripcion_medicamento.append(prescripcion_medicamento1)\n",
    "        #presentacion.append(presentacion1)\n",
    "        enes.append(n)\n",
    "    else:\n",
    "        continue"
   ]
  },
  {
   "cell_type": "code",
   "execution_count": 51,
   "metadata": {},
   "outputs": [],
   "source": [
    "salidas = pd.DataFrame()\n",
    "salidas['consulta_id']=enes\n",
    "salidas['cups_solictud']=cups_solictud\n",
    "salidas['descripcion']=descripcion\n",
    "salidas['cantidad']=cantidad\n",
    "salidas['prescripcion']=prescripcion\n",
    "salidas['tipo']=tipo\n",
    "salidas['codigo_medicamento']=codigo_medicamento\n",
    "salidas['descripcion_medicamento']=descripcion_medicamento\n",
    "salidas['cantidad_medicamento']=cantidad_medicamento\n",
    "salidas['prescripcion_medicamento']=prescripcion_medicamento"
   ]
  },
  {
   "cell_type": "code",
   "execution_count": 52,
   "metadata": {},
   "outputs": [],
   "source": [
    "#salidas['presentacion']=presentacion"
   ]
  },
  {
   "cell_type": "code",
   "execution_count": 53,
   "metadata": {},
   "outputs": [],
   "source": [
    "for j in entradas['consulta_id'].drop_duplicates():\n",
    "    if j in enes:\n",
    "        continue\n",
    "    else:\n",
    "        entradas = entradas.drop(entradas[entradas[j]==True].index)\n",
    "entradas['consulta_id']=entradas['consulta_id'].drop_duplicates().dropna()"
   ]
  },
  {
   "cell_type": "code",
   "execution_count": 54,
   "metadata": {},
   "outputs": [],
   "source": [
    "entradas=entradas.dropna()"
   ]
  },
  {
   "cell_type": "code",
   "execution_count": 55,
   "metadata": {},
   "outputs": [],
   "source": [
    "entradas=entradas.sort_values(by=['consulta_id'])\n",
    "salidas=salidas.sort_values(by=['consulta_id'])"
   ]
  },
  {
   "cell_type": "code",
   "execution_count": 56,
   "metadata": {},
   "outputs": [],
   "source": [
    "entradas=entradas.drop(columns=['consulta_id'])\n",
    "salidas=salidas.drop(columns=['consulta_id'])"
   ]
  },
  {
   "cell_type": "code",
   "execution_count": 57,
   "metadata": {},
   "outputs": [],
   "source": [
    "entradas['T_A'] = entradas['T_A'].str.replace('-','/')"
   ]
  },
  {
   "cell_type": "code",
   "execution_count": 58,
   "metadata": {},
   "outputs": [],
   "source": [
    "t_a = entradas[\"T_A\"].str.split('/', expand=True)\n",
    "t_a.columns = ['T_A1', 'T_A2']\n",
    "entradas = pd.concat([entradas, t_a], axis=1)"
   ]
  },
  {
   "cell_type": "code",
   "execution_count": 59,
   "metadata": {},
   "outputs": [],
   "source": [
    "entradas['TEST_DE_FINDRISK']=entradas['TEST_DE_FINDRISK'].astype(str).apply(lambda x: x[:2]).str.replace(':',' ').astype(float)"
   ]
  },
  {
   "cell_type": "code",
   "execution_count": 60,
   "metadata": {},
   "outputs": [],
   "source": [
    "entradas['TASA_DE_FILTRACION_GLOMERULAR']=entradas['TASA_DE_FILTRACION_GLOMERULAR'].astype(str).apply(lambda x: x[:2]).astype(float)"
   ]
  },
  {
   "cell_type": "code",
   "execution_count": 61,
   "metadata": {},
   "outputs": [],
   "source": [
    "entradas['TEST_DE_FRAMINGHAM']=entradas['TEST_DE_FRAMINGHAM'].astype(str).apply(lambda x: x[:1]).str.replace('%',' ').astype(float)"
   ]
  },
  {
   "cell_type": "code",
   "execution_count": 62,
   "metadata": {},
   "outputs": [],
   "source": [
    "salidas=salidas.fillna(0)\n",
    "entradas=entradas.fillna(0)"
   ]
  },
  {
   "cell_type": "code",
   "execution_count": 63,
   "metadata": {},
   "outputs": [],
   "source": [
    "entradas=entradas.drop(['T_A'], axis=1)"
   ]
  },
  {
   "cell_type": "code",
   "execution_count": 64,
   "metadata": {},
   "outputs": [],
   "source": [
    "clf1=tree.DecisionTreeClassifier(criterion='gini',max_depth=30,ccp_alpha=0.05)\n",
    "#clf3=tree.DecisionTreeClassifier(criterion='gini',max_depth=30,ccp_alpha=0.05)\n",
    "tablas_enc = dict()\n",
    "i=0\n",
    "for j in entradas.columns.tolist():\n",
    "    entradas[j]=entradas[j].fillna(0)\n",
    "    if entradas[j].dtype=='O':\n",
    "        entradas[j]=entradas[j].astype(str)\n",
    "        tablas_enc[j] = OrdinalEncoder(categories=[entradas[j].unique().tolist()])\n",
    "        tablas_enc[j].fit(entradas[[j]])\n",
    "        entradas[j+'cat']= tablas_enc[j].transform(entradas[[j]])\n",
    "    else:\n",
    "        entradas[j+'cat'] = entradas[j]\n",
    "        continue\n",
    "for i in salidas.columns.tolist():\n",
    "    salidas[i]=salidas[i].fillna(0)\n",
    "    if salidas[i].dtype=='O':\n",
    "        salidas[i]=salidas[i].astype(str)\n",
    "        tablas_enc[i]=OrdinalEncoder(categories=[salidas[i].unique().tolist()])\n",
    "        tablas_enc[i].fit(salidas[[i]])\n",
    "        salidas[i+'cat'] = tablas_enc[i].transform(salidas[[i]])\n",
    "    else:\n",
    "        salidas[i+'cat'] = salidas[i]\n",
    "        continue\n",
    "salidas_cat=[]\n",
    "for k in salidas.columns.tolist():\n",
    "    if 'cat' in k:\n",
    "        salidas_cat.append(k)\n",
    "    else:\n",
    "        continue\n",
    "entradas_cat=[]\n",
    "for h in entradas.columns.tolist():\n",
    "    if 'cat' in h:\n",
    "        entradas_cat.append(h)\n",
    "    else:\n",
    "        continue"
   ]
  },
  {
   "cell_type": "code",
   "execution_count": 65,
   "metadata": {},
   "outputs": [],
   "source": [
    "salidas_cat1=[]\n",
    "salidas_cat1.append('cups_solictudcat')\n",
    "salidas_cat1.append('descripcioncat')\n",
    "salidas_cat1.append('cantidadcat')\n",
    "salidas_cat1.append('prescripcioncat')\n",
    "salidas_cat1.append('tipocat')\n",
    "salidas_cat2=[]\n",
    "salidas_cat2.append('codigo_medicamentocat')\n",
    "salidas_cat2.append('descripcion_medicamentocat')\n",
    "salidas_cat2.append('cantidad_medicamentocat',)\n",
    "salidas_cat2.append('prescripcion_medicamentocat')"
   ]
  },
  {
   "cell_type": "code",
   "execution_count": 66,
   "metadata": {},
   "outputs": [],
   "source": [
    "#del clf1,clf2,clf,clf3"
   ]
  },
  {
   "cell_type": "code",
   "execution_count": 67,
   "metadata": {},
   "outputs": [],
   "source": [
    "Y1=salidas[salidas_cat]\n",
    "X1=entradas[entradas_cat]\n",
    "#Y2=salidas[salidas_cat2]\n",
    "#X2=salidas[salidas_cat1]\n",
    "X_train1, X_test1, y_train1, y_test1 = train_test_split(X1, Y1, test_size=0.20)\n",
    "#X_train2, X_test2, y_train2, y_test2 = train_test_split(X2, Y2, test_size=0.20)\n",
    "\n",
    "clf1=clf1.fit(X_train1, y_train1)\n",
    "#clf2=clf3.fit(X_train2, y_train2)"
   ]
  },
  {
   "cell_type": "code",
   "execution_count": 68,
   "metadata": {},
   "outputs": [],
   "source": [
    "#from joblib import dump, load\n",
    "#dump(clf1, 'tree1c.joblib')\n",
    "#dump(clf2, 'tree2c.joblib')"
   ]
  },
  {
   "cell_type": "code",
   "execution_count": 69,
   "metadata": {},
   "outputs": [],
   "source": [
    "#dump(tablas_enc, 'tablesa1.joblib')"
   ]
  },
  {
   "cell_type": "code",
   "execution_count": 70,
   "metadata": {},
   "outputs": [],
   "source": [
    "#tablas_enc1 = load('tablesa.joblib')"
   ]
  },
  {
   "cell_type": "code",
   "execution_count": 71,
   "metadata": {},
   "outputs": [],
   "source": [
    "from sklearn.tree import plot_tree"
   ]
  },
  {
   "cell_type": "code",
   "execution_count": 72,
   "metadata": {},
   "outputs": [],
   "source": [
    "#tree.plot_tree(clf)\n",
    "#plt.savefig(\"Imagen1.jpg\")"
   ]
  },
  {
   "cell_type": "code",
   "execution_count": 93,
   "metadata": {},
   "outputs": [],
   "source": [
    "dato_en=[]\n",
    "dato_en.append(int('35'))#edad\n",
    "dato_en.append(tablas_enc['sexo'].fit_transform([['M']]))#sexo\n",
    "dato_en.append(tablas_enc['grupo_sanguineo'].fit_transform([['O+']]))#grupo_sanguineo\n",
    "dato_en.append(float('90'))#peso\n",
    "dato_en.append(int('110'))#talla\n",
    "dato_en.append(float('40'))#temp\n",
    "dato_en.append(int('60'))#F_C\n",
    "dato_en.append(int('50'))#F_R\n",
    "dato_en.append(float('5'))#Test de frindrisk\n",
    "dato_en.append(float('102'))#Tasa de filtracion\n",
    "dato_en.append(float('0'))#Test de framingan ,porcentaje\n",
    "dato_en.append(tablas_enc['diagnostico_principal'].fit_transform([['K021']]))#diagnostico_principal\n",
    "#dato_en.append(tablas_enc['diagnostico_secundario'].fit_transform([['0']]))#diagnostico_secundario\n",
    "#dato_en.append(tablas_enc['diagnostico_terciario'].fit_transform([['0']]))#diagnostico_terciario\n",
    "#dato_en.append(tablas_enc['cuarto_diagnostico'].fit_transform([['0']]))#cuarto_diagnostico\n",
    "dato_en.append(int('110'))#T_a1\n",
    "dato_en.append(int('140'))#T_a2"
   ]
  },
  {
   "cell_type": "code",
   "execution_count": 94,
   "metadata": {},
   "outputs": [],
   "source": [
    "prediccion= clf1.predict([dato_en])\n",
    "lists = prediccion.tolist()\n",
    "#prediccion2= clf2.predict(lists)\n",
    "#lists2 = prediccion2.tolist()"
   ]
  },
  {
   "cell_type": "code",
   "execution_count": 95,
   "metadata": {},
   "outputs": [
    {
     "name": "stdout",
     "output_type": "stream",
     "text": [
      "{'cups_solictud': ' -902207.0', 'descripcion': ' -HEMOGRAMA I (HEMOGLOBINA HEMATOCRITO Y LEUCOGRAMA) MANUAL', 'cantidad': ' -1.0', 'prescripcion': ' ', 'tipo': ' -Laboratorios', 'codigo_medicamento': ' -CUM000171-CUM027213-CUM001309-CUM002522-CUM004094-CUM009446-CUM001279-CUM036626-CUM001279-CUM016670-CUM005190-CUM036626-CUM001279-CUM000187-0-0-0-0-0-0-0-0-0-0-0-0-0-0-0-0-0-0-0-0-0-0-0-0-0-0-0-0-0-0-0-0-0-0-0-0-0-0-0-0-0-0-0-0-0-0-0-0-0-0-0-0-0-0-0-0-0-0-0-0-0-0-0-0-0-0-0-0-0-0-0-0-0-0-0-0-0-0-0-0-0-0-0-0-0-0-0-0-0-0-0-0-0-0-0-0-0-0-0-0-0-0-0-0-0-0-0-0-0-0-0-0-0-0-0-0-0-CUM000171-0-0-0-0-0-0-0-0-0-0-0-0-0-0-0-0-0-0-0-0-0-0-0-0-0-0-0-0-0-0-0-0-0-0-0-0-0-0-0-0-0-0-0-0-0-0-0-0-0-0-0-0-0-0-0-0-0-0-0-0-0-0-0-0-0-0-0-0-0-0-0-0-0-0-0-0-0-0-0-0-0-0-0-0-0-0-0-0-0-0-0-0-0-0-0-0-0-0-0-0-0-0-0-0-0-0-0', 'descripcion_medicamento': '-METOCARBAMOL TABLETAS 750MG-CALCITRIOL 0.5 MCG-TIAMINA TABLETAS 300 MG-NAPROXENO TABLETAS 500 MG-ACIDO FOLICO TABLETAS 1 MG.-OMEPRAZOL 40 MG-ACIDO ASCORBICO 500 MG. TABLETAS-NITROFURANTOINA 100MG-ACIDO ASCORBICO 500 MG. TABLETAS-ATORVASTATINA 20 MG COMPRIMIDOS RECUBIERTOS-LOVASTATINA 20 MG TABLETAS-NITROFURANTOINA 100MG-ACIDO ASCORBICO 500 MG. TABLETAS-HIDROCLOROTIAZIDA 25 MG TABLETAS-0-0-0-0-0-0-0-0-0-0-0-0-0-0-0-0-0-0-0-0-0-0-0-0-0-0-0-0-0-0-0-0-0-0-0-0-0-0-0-0-0-0-0-0-0-0-0-0-0-0-0-0-0-0-0-0-0-0-0-0-0-0-0-0-0-0-0-0-0-0-0-0-0-0-0-0-0-0-0-0-0-0-0-0-0-0-0-0-0-0-0-0-0-0-0-0-0-0-0-0-0-0-0-0-0-0-0-0-0-0-0-0-0-0-0-0-0-METOCARBAMOL TABLETAS 750MG-0-0-0-0-0-0-0-0-0-0-0-0-0-0-0-0-0-0-0-0-0-0-0-0-0-0-0-0-0-0-0-0-0-0-0-0-0-0-0-0-0-0-0-0-0-0-0-0-0-0-0-0-0-0-0-0-0-0-0-0-0-0-0-0-0-0-0-0-0-0-0-0-0-0-0-0-0-0-0-0-0-0-0-0-0-0-0-0-0-0-0-0-0-0-0-0-0-0-0-0-0-0-0-0-0-0-0', 'cantidad_medicamento': '-30.0-0.0', 'prescripcion_medicamento': '-toma 2 al dia'}\n"
     ]
    }
   ],
   "source": [
    "respuesta2={\n",
    "       \"cups_solictud\":tablas_enc['cups_solictud'].inverse_transform([[prediccion[0][0]]])[0][0],\n",
    "       \"descripcion\" :tablas_enc['descripcion'].inverse_transform([[prediccion[0][1]]])[0][0],\n",
    "       \"cantidad\":tablas_enc['cantidad'].inverse_transform([[prediccion[0][2]]])[0][0],\n",
    "       \"prescripcion\": tablas_enc['prescripcion'].inverse_transform([[prediccion[0][3]]])[0][0][0][0],\n",
    "       \"tipo\": tablas_enc['tipo'].inverse_transform([[prediccion[0][4]]])[0][0],\n",
    "       \"codigo_medicamento\":tablas_enc['codigo_medicamento'].inverse_transform([[prediccion[0][0]]])[0][0],\n",
    "       \"descripcion_medicamento\":tablas_enc['descripcion_medicamento'].inverse_transform([[prediccion[0][1]]])[0][0],\n",
    "       \"cantidad_medicamento\":tablas_enc['cantidad_medicamento'].inverse_transform([[prediccion[0][2]]])[0][0],\n",
    "       \"prescripcion_medicamento\":tablas_enc['prescripcion_medicamento'].inverse_transform([[prediccion[0][3]]])[0][0],\n",
    "       #\"presentacion\":tablas_enc['presentacion'].inverse_transform([[prediccion2[0][4]]])[0][0]\n",
    "    }\n",
    "print(respuesta2)"
   ]
  },
  {
   "cell_type": "code",
   "execution_count": 76,
   "metadata": {},
   "outputs": [],
   "source": [
    "prueba=clf1.predict(X_test1)\n",
    "prueba2=clf2.predict(X_test2)"
   ]
  },
  {
   "cell_type": "code",
   "execution_count": 77,
   "metadata": {},
   "outputs": [],
   "source": [
    "prueba=prueba.tolist()\n",
    "cups_solictud_prueba=[]\n",
    "descripcion_prueba=[]\n",
    "cantidad_prueba=[]\n",
    "prescripcion_prueba=[]\n",
    "tipo_prueba=[]\n",
    "codigo_medicamento_prueba=[]\n",
    "descripcion_medicamento_prueba=[]\n",
    "cantidad_medicamento_prueba=[]\n",
    "prescripcion_medicamento_prueba=[]\n",
    "#presentacion_prueba=[]\n",
    "for i in range(0,len(prueba)):\n",
    "    cups_solictud_prueba.append(prueba[i][0])\n",
    "    descripcion_prueba.append(prueba[i][1])\n",
    "    cantidad_prueba.append(prueba[i][2])\n",
    "    prescripcion_prueba.append(prueba[i][3])\n",
    "    tipo_prueba.append(prueba[i][4])\n",
    "    codigo_medicamento_prueba.append(prueba2[i][0])\n",
    "    descripcion_medicamento_prueba.append(prueba2[i][1])\n",
    "    cantidad_medicamento_prueba.append(prueba2[i][2])\n",
    "    prescripcion_medicamento_prueba.append(prueba2[i][3])\n",
    "    #presentacion_prueba.append(prueba[i][9])"
   ]
  },
  {
   "cell_type": "code",
   "execution_count": 78,
   "metadata": {},
   "outputs": [],
   "source": [
    "#(y_test['presentacioncat']==presentacion_prueba).value_counts()"
   ]
  },
  {
   "cell_type": "code",
   "execution_count": 79,
   "metadata": {},
   "outputs": [
    {
     "data": {
      "text/plain": [
       "False    77\n",
       "True     11\n",
       "Name: prescripcion_medicamentocat, dtype: int64"
      ]
     },
     "execution_count": 79,
     "metadata": {},
     "output_type": "execute_result"
    }
   ],
   "source": [
    "(y_test2['prescripcion_medicamentocat']==prescripcion_medicamento_prueba).value_counts()"
   ]
  },
  {
   "cell_type": "code",
   "execution_count": 80,
   "metadata": {},
   "outputs": [
    {
     "data": {
      "text/plain": [
       "False    85\n",
       "True      3\n",
       "Name: cantidad_medicamentocat, dtype: int64"
      ]
     },
     "execution_count": 80,
     "metadata": {},
     "output_type": "execute_result"
    }
   ],
   "source": [
    "(y_test2['cantidad_medicamentocat']==cantidad_medicamento_prueba).value_counts()"
   ]
  },
  {
   "cell_type": "code",
   "execution_count": 81,
   "metadata": {},
   "outputs": [
    {
     "data": {
      "text/plain": [
       "False    73\n",
       "True     15\n",
       "Name: descripcion_medicamentocat, dtype: int64"
      ]
     },
     "execution_count": 81,
     "metadata": {},
     "output_type": "execute_result"
    }
   ],
   "source": [
    "(y_test2['descripcion_medicamentocat']==descripcion_medicamento_prueba).value_counts()"
   ]
  },
  {
   "cell_type": "code",
   "execution_count": 82,
   "metadata": {},
   "outputs": [
    {
     "data": {
      "text/plain": [
       "False    77\n",
       "True     11\n",
       "Name: codigo_medicamentocat, dtype: int64"
      ]
     },
     "execution_count": 82,
     "metadata": {},
     "output_type": "execute_result"
    }
   ],
   "source": [
    "(y_test2['codigo_medicamentocat']==codigo_medicamento_prueba).value_counts()"
   ]
  },
  {
   "cell_type": "code",
   "execution_count": 83,
   "metadata": {},
   "outputs": [
    {
     "data": {
      "text/plain": [
       "True     47\n",
       "False    41\n",
       "Name: tipocat, dtype: int64"
      ]
     },
     "execution_count": 83,
     "metadata": {},
     "output_type": "execute_result"
    }
   ],
   "source": [
    "(y_test1['tipocat']==tipo_prueba).value_counts()"
   ]
  },
  {
   "cell_type": "code",
   "execution_count": 84,
   "metadata": {},
   "outputs": [
    {
     "data": {
      "text/plain": [
       "True     45\n",
       "False    43\n",
       "Name: prescripcioncat, dtype: int64"
      ]
     },
     "execution_count": 84,
     "metadata": {},
     "output_type": "execute_result"
    }
   ],
   "source": [
    "(y_test1['prescripcioncat']==prescripcion_prueba).value_counts()"
   ]
  },
  {
   "cell_type": "code",
   "execution_count": 85,
   "metadata": {},
   "outputs": [
    {
     "data": {
      "text/plain": [
       "True     47\n",
       "False    41\n",
       "Name: cantidadcat, dtype: int64"
      ]
     },
     "execution_count": 85,
     "metadata": {},
     "output_type": "execute_result"
    }
   ],
   "source": [
    "(y_test1['cantidadcat']==cantidad_prueba).value_counts()"
   ]
  },
  {
   "cell_type": "code",
   "execution_count": 86,
   "metadata": {},
   "outputs": [
    {
     "data": {
      "text/plain": [
       "False    81\n",
       "True      7\n",
       "Name: descripcioncat, dtype: int64"
      ]
     },
     "execution_count": 86,
     "metadata": {},
     "output_type": "execute_result"
    }
   ],
   "source": [
    "(y_test1['descripcioncat']==descripcion_prueba).value_counts()"
   ]
  },
  {
   "cell_type": "code",
   "execution_count": 87,
   "metadata": {},
   "outputs": [
    {
     "data": {
      "text/plain": [
       "False    81\n",
       "True      7\n",
       "Name: cups_solictudcat, dtype: int64"
      ]
     },
     "execution_count": 87,
     "metadata": {},
     "output_type": "execute_result"
    }
   ],
   "source": [
    "(y_test1['cups_solictudcat']==cups_solictud_prueba).value_counts()"
   ]
  },
  {
   "cell_type": "code",
   "execution_count": 88,
   "metadata": {},
   "outputs": [
    {
     "ename": "ModuleNotFoundError",
     "evalue": "No module named 'tensorflow'",
     "output_type": "error",
     "traceback": [
      "\u001b[1;31m---------------------------------------------------------------------------\u001b[0m",
      "\u001b[1;31mModuleNotFoundError\u001b[0m                       Traceback (most recent call last)",
      "\u001b[1;32mC:\\Users\\vicma\\AppData\\Local\\Temp\\ipykernel_18648\\447618041.py\u001b[0m in \u001b[0;36m<module>\u001b[1;34m\u001b[0m\n\u001b[1;32m----> 1\u001b[1;33m \u001b[1;32mimport\u001b[0m \u001b[0mtensorflow\u001b[0m \u001b[1;32mas\u001b[0m \u001b[0mtf\u001b[0m\u001b[1;33m\u001b[0m\u001b[1;33m\u001b[0m\u001b[0m\n\u001b[0m\u001b[0;32m      2\u001b[0m \u001b[1;32mimport\u001b[0m \u001b[0mnumpy\u001b[0m \u001b[1;32mas\u001b[0m \u001b[0mnp\u001b[0m\u001b[1;33m\u001b[0m\u001b[1;33m\u001b[0m\u001b[0m\n",
      "\u001b[1;31mModuleNotFoundError\u001b[0m: No module named 'tensorflow'"
     ]
    }
   ],
   "source": [
    "import tensorflow as tf\n",
    "import numpy as np"
   ]
  },
  {
   "cell_type": "code",
   "execution_count": null,
   "metadata": {},
   "outputs": [],
   "source": [
    "oculta1 = tf.keras.layers.Dense(units=3, input_shape=[1])\n",
    "oculta2 = tf.keras.layers.Dense(units=3)\n",
    "salida_tensor = tf.keras.layers.Dense(units=1)\n",
    "modelo_tensor = tf.keras.Sequential([oculta1, oculta2, salida_tensor])"
   ]
  },
  {
   "cell_type": "code",
   "execution_count": null,
   "metadata": {},
   "outputs": [],
   "source": [
    "modelo_tensor.compile(\n",
    "    optimizer=tf.keras.optimizers.Adam(0.1),\n",
    "    loss='mean_squared_error'\n",
    ")"
   ]
  }
 ],
 "metadata": {
  "kernelspec": {
   "display_name": "Python 3.10.6 ('new')",
   "language": "python",
   "name": "python3"
  },
  "language_info": {
   "codemirror_mode": {
    "name": "ipython",
    "version": 3
   },
   "file_extension": ".py",
   "mimetype": "text/x-python",
   "name": "python",
   "nbconvert_exporter": "python",
   "pygments_lexer": "ipython3",
   "version": "3.10.6"
  },
  "orig_nbformat": 4,
  "vscode": {
   "interpreter": {
    "hash": "a7d56eb7fd17313bc19975621a8ead89fef14b3f65ab26fd908d8bb3cfa04a18"
   }
  }
 },
 "nbformat": 4,
 "nbformat_minor": 2
}
