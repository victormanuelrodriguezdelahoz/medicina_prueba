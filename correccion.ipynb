{
 "cells": [
  {
   "cell_type": "code",
   "execution_count": 1,
   "metadata": {},
   "outputs": [],
   "source": [
    "import pandas as pd\n",
    "from sklearn.preprocessing import OrdinalEncoder\n",
    "from sklearn import tree\n",
    "from datetime import date\n",
    "from datetime import datetime\n",
    "from fastapi import Request, FastAPI\n",
    "from sklearn.model_selection import train_test_split\n",
    "from pydantic import BaseModel\n",
    "import json\n",
    "import matplotlib.pyplot as plt\n",
    "from sklearn.tree import DecisionTreeClassifier\n",
    "from fastapi import FastAPI\n",
    "from pydantic import BaseModel"
   ]
  },
  {
   "cell_type": "code",
   "execution_count": 3,
   "metadata": {},
   "outputs": [],
   "source": [
    "app = FastAPI()\n",
    "df = pd.read_excel(\"2. Datos para entrenar.xlsx\",engine='openpyxl')\n",
    "filtro=[]\n",
    "for i,j in enumerate(df['fecha_nacimiento']):\n",
    "    filter=type(df['fecha_nacimiento'][0])\n",
    "    if type(j)==filter:\n",
    "        filtro.append(True)\n",
    "    else:\n",
    "        filtro.append(False) \n",
    "df=df[filtro]\n",
    "edad=[]\n",
    "for k,h in enumerate(df['fecha_nacimiento']):\n",
    "    edad.append(2022-h.year)\n",
    "df['Edad']=edad"
   ]
  },
  {
   "cell_type": "code",
   "execution_count": 4,
   "metadata": {},
   "outputs": [],
   "source": [
    "salidas1= df[['consulta_id','cups_solictud','descripcion','cantidad','prescripcion','tipo','codigo_medicamento','descripcion_medicamento','cantidad_medicamento','prescripcion_medicamento']]\n",
    "entradas= df.drop(['diagnostico_secundario','diagnostico_terciario','cuarto_diagnostico','presentacion','fecha_nacimiento','cita_id','id_solicitud_enviada','medicamento_enviado',\"TEST_HERRERA_Y_HURTADO\",'cups_solictud','descripcion','cantidad','prescripcion','tipo','codigo_medicamento','descripcion_medicamento','cantidad_medicamento','prescripcion_medicamento'], axis=1)\n",
    "salidas1=salidas1.fillna(0)\n",
    "entradas=entradas.fillna(0)\n",
    "cups_solictud=[]\n",
    "descripcion=[]\n",
    "cantidad=[]\n",
    "prescripcion=[]\n",
    "tipo=[]\n",
    "codigo_medicamento=[]\n",
    "descripcion_medicamento=[]\n",
    "cantidad_medicamento=[]\n",
    "prescripcion_medicamento=[]\n",
    "#presentacion=[]\n",
    "enes=[]"
   ]
  },
  {
   "cell_type": "code",
   "execution_count": 5,
   "metadata": {},
   "outputs": [],
   "source": [
    "for n in salidas1['consulta_id'].drop_duplicates():\n",
    "    if len(salidas1[salidas1['consulta_id']==n])>0:\n",
    "        cups_solictud1=' '\n",
    "        descripcion1=' '\n",
    "        cantidad1=' '\n",
    "        prescripcion1=' '\n",
    "        tipo1=' '\n",
    "        codigo_medicamento1=' '\n",
    "        descripcion_medicamento1=''\n",
    "        cantidad_medicamento1=''\n",
    "        prescripcion_medicamento1=''\n",
    "        #presentacion1=''\n",
    "        for k in range(len(salidas1[salidas1['consulta_id']==n])):\n",
    "            cups_solictud1=cups_solictud1+'-'+str(salidas1[salidas1['consulta_id']==n]['cups_solictud'].to_list()[k])\n",
    "            descripcion1=descripcion1+'-'+str(salidas1[salidas1['consulta_id']==n]['descripcion'].to_list()[k])\n",
    "            cantidad1=cantidad1+'-'+str(salidas1[salidas1['consulta_id']==n]['cantidad'].to_list()[k])\n",
    "            prescripcion1=prescripcion1+'-'+str(salidas1[salidas1['consulta_id']==n]['prescripcion'].to_list()[k])\n",
    "            tipo1=tipo1+'-'+str(salidas1[salidas1['consulta_id']==n]['tipo'].to_list()[k])\n",
    "            codigo_medicamento1=codigo_medicamento1+'-'+str(salidas1[salidas1['consulta_id']==n]['codigo_medicamento'].to_list()[k])\n",
    "            descripcion_medicamento1=descripcion_medicamento1+'-'+str(salidas1[salidas1['consulta_id']==n]['descripcion_medicamento'].to_list()[k])\n",
    "            cantidad_medicamento1=cantidad_medicamento1+'-'+str(salidas1[salidas1['consulta_id']==n]['cantidad_medicamento'].to_list()[k])\n",
    "            prescripcion_medicamento1=prescripcion_medicamento1+'-'+str(salidas1[salidas1['consulta_id']==n]['prescripcion_medicamento'].to_list()[k])\n",
    "            #presentacion1=presentacion1+'-'+str(salidas1[salidas1['consulta_id']==n]['presentacion'].to_list()[k])\n",
    "        cups_solictud.append(cups_solictud1)\n",
    "        descripcion.append(descripcion1)\n",
    "        cantidad.append(cantidad1)\n",
    "        prescripcion.append(prescripcion1)\n",
    "        tipo.append(tipo1)\n",
    "        codigo_medicamento.append(codigo_medicamento1)\n",
    "        descripcion_medicamento.append(descripcion_medicamento1)\n",
    "        cantidad_medicamento.append(cantidad_medicamento1)\n",
    "        prescripcion_medicamento.append(prescripcion_medicamento1)\n",
    "        #presentacion.append(presentacion1)\n",
    "        enes.append(n)\n",
    "    else:\n",
    "        continue\n",
    "salidas = pd.DataFrame()\n",
    "salidas['consulta_id']=enes\n",
    "salidas['cups_solictud']=cups_solictud\n",
    "salidas['descripcion']=descripcion\n",
    "salidas['cantidad']=cantidad\n",
    "salidas['prescripcion']=prescripcion\n",
    "salidas['tipo']=tipo\n",
    "salidas['codigo_medicamento']=codigo_medicamento\n",
    "salidas['descripcion_medicamento']=descripcion_medicamento\n",
    "salidas['cantidad_medicamento']=cantidad_medicamento\n",
    "salidas['prescripcion_medicamento']=prescripcion_medicamento\n",
    "#salidas['presentacion']=presentacion"
   ]
  },
  {
   "cell_type": "code",
   "execution_count": 6,
   "metadata": {},
   "outputs": [],
   "source": [
    "for j in entradas['consulta_id'].drop_duplicates():\n",
    "    if j in enes:\n",
    "        continue\n",
    "    else:\n",
    "        entradas = entradas.drop(entradas[entradas[j]==True].index)\n",
    "entradas['consulta_id']=entradas['consulta_id'].drop_duplicates().dropna()\n",
    "entradas=entradas.dropna()\n",
    "entradas=entradas.sort_values(by=['consulta_id'])\n",
    "salidas=salidas.sort_values(by=['consulta_id'])\n",
    "entradas=entradas.drop(columns=['consulta_id'])\n",
    "salidas=salidas.drop(columns=['consulta_id'])\n",
    "entradas['T_A'] = entradas['T_A'].str.replace('-','/')\n",
    "t_a = entradas[\"T_A\"].str.split('/', expand=True)\n",
    "t_a.columns = ['T_A1', 'T_A2']\n",
    "entradas = pd.concat([entradas, t_a], axis=1)\n",
    "entradas['TEST_DE_FINDRISK']=entradas['TEST_DE_FINDRISK'].astype(str).apply(lambda x: x[:2]).str.replace(':',' ').astype(float)\n",
    "entradas['TASA_DE_FILTRACION_GLOMERULAR']=entradas['TASA_DE_FILTRACION_GLOMERULAR'].astype(str).apply(lambda x: x[:2]).astype(float)\n",
    "entradas['TEST_DE_FRAMINGHAM']=entradas['TEST_DE_FRAMINGHAM'].astype(str).apply(lambda x: x[:1]).str.replace('%',' ').astype(float)\n",
    "salidas=salidas.fillna(0)\n",
    "entradas=entradas.fillna(0)\n",
    "entradas=entradas.drop(['T_A'], axis=1)"
   ]
  },
  {
   "cell_type": "code",
   "execution_count": 7,
   "metadata": {},
   "outputs": [],
   "source": [
    "clfa=tree.DecisionTreeClassifier(criterion='gini',max_depth=15,ccp_alpha=0.01,splitter='best')\n",
    "clfb=tree.DecisionTreeClassifier(criterion='gini',max_depth=15,ccp_alpha=0.01,splitter='best')"
   ]
  },
  {
   "cell_type": "code",
   "execution_count": 8,
   "metadata": {},
   "outputs": [],
   "source": [
    "tablas_enc = dict()\n",
    "i=0\n",
    "for j in entradas.columns.tolist():\n",
    "    entradas[j]=entradas[j].fillna(0)\n",
    "    if entradas[j].dtype=='O':\n",
    "        entradas[j]=entradas[j].astype(str)\n",
    "        tablas_enc[j] = OrdinalEncoder(categories=[entradas[j].unique().tolist()])\n",
    "        tablas_enc[j].fit(entradas[[j]])\n",
    "        entradas[j+'cat']= tablas_enc[j].transform(entradas[[j]])\n",
    "    else:\n",
    "        entradas[j+'cat'] = entradas[j]\n",
    "        continue\n",
    "for i in salidas.columns.tolist():\n",
    "    salidas[i]=salidas[i].fillna(0)\n",
    "    if salidas[i].dtype=='O':\n",
    "        salidas[i]=salidas[i].astype(str)\n",
    "        tablas_enc[i]=OrdinalEncoder(categories=[salidas[i].unique().tolist()])\n",
    "        tablas_enc[i].fit(salidas[[i]])\n",
    "        salidas[i+'cat'] = tablas_enc[i].transform(salidas[[i]])\n",
    "    else:\n",
    "        salidas[i+'cat'] = salidas[i]\n",
    "        continue\n",
    "salidas_cat=[]\n",
    "for k in salidas.columns.tolist():\n",
    "    if 'cat' in k:\n",
    "        salidas_cat.append(k)\n",
    "    else:\n",
    "        continue\n",
    "entradas_cat=[]\n",
    "for h in entradas.columns.tolist():\n",
    "    if 'cat' in h:\n",
    "        entradas_cat.append(h)\n",
    "    else:\n",
    "        continue"
   ]
  },
  {
   "cell_type": "code",
   "execution_count": 9,
   "metadata": {},
   "outputs": [],
   "source": [
    "salidas_cat1=[]\n",
    "salidas_cat1.append('cups_solictudcat')\n",
    "salidas_cat1.append('descripcioncat')\n",
    "salidas_cat1.append('cantidadcat')\n",
    "salidas_cat1.append('prescripcioncat')\n",
    "salidas_cat1.append('tipocat')\n",
    "salidas_cat2=[]\n",
    "salidas_cat2.append('codigo_medicamentocat')\n",
    "salidas_cat2.append('descripcion_medicamentocat')\n",
    "salidas_cat2.append('cantidad_medicamentocat',)\n",
    "salidas_cat2.append('prescripcion_medicamentocat')"
   ]
  },
  {
   "cell_type": "code",
   "execution_count": 10,
   "metadata": {},
   "outputs": [],
   "source": [
    "Y1=salidas[salidas_cat1]\n",
    "X1=entradas[entradas_cat]\n",
    "Y2=salidas[salidas_cat2]\n",
    "X2=salidas[salidas_cat1]\n",
    "X_train1, X_test1, y_train1, y_test1 = train_test_split(X1, Y1, test_size=0.20)\n",
    "X_train2, X_test2, y_train2, y_test2 = train_test_split(X2, Y2, test_size=0.20)"
   ]
  },
  {
   "cell_type": "code",
   "execution_count": 11,
   "metadata": {},
   "outputs": [],
   "source": [
    "clf1=clfa.fit(X_train1, y_train1)\n",
    "clf2=clfb.fit(X_train2, y_train2)"
   ]
  },
  {
   "cell_type": "code",
   "execution_count": 20,
   "metadata": {},
   "outputs": [
    {
     "name": "stderr",
     "output_type": "stream",
     "text": [
      "c:\\Users\\vicma\\miniconda3\\envs\\mypython3\\lib\\site-packages\\sklearn\\base.py:450: UserWarning: X does not have valid feature names, but OrdinalEncoder was fitted with feature names\n",
      "  warnings.warn(\n",
      "c:\\Users\\vicma\\miniconda3\\envs\\mypython3\\lib\\site-packages\\sklearn\\base.py:450: UserWarning: X does not have valid feature names, but DecisionTreeClassifier was fitted with feature names\n",
      "  warnings.warn(\n",
      "c:\\Users\\vicma\\miniconda3\\envs\\mypython3\\lib\\site-packages\\sklearn\\base.py:450: UserWarning: X does not have valid feature names, but DecisionTreeClassifier was fitted with feature names\n",
      "  warnings.warn(\n"
     ]
    }
   ],
   "source": [
    "dato_en=[]\n",
    "dato_en.append(int('25'))\n",
    "dato_en.append(tablas_enc['sexo'].transform([['F']])[0][0])\n",
    "dato_en.append(float('120'))\n",
    "dato_en.append(tablas_enc['grupo_sanguineo'].fit_transform([['O+']])[0][0])\n",
    "dato_en.append(float('110'))\n",
    "dato_en.append(float('140'))\n",
    "dato_en.append(int('0'))#F_C\n",
    "dato_en.append(int('0'))#F_R\n",
    "dato_en.append(float('0'))#Test de frindrisk\n",
    "dato_en.append(float('0'))#Tasa de filtracion\n",
    "dato_en.append(float('0'))#Test de framingan ,porcentaje\n",
    "dato_en.append(tablas_enc['diagnostico_principal'].fit_transform([['G800']]))#diagnostico_principal\n",
    "#dato_en.append(tablas_enc['diagnostico_secundario'].fit_transform([[item.diagnostico_secundariocat]]))#diagnostico_secundario\n",
    "#dato_en.append(tablas_enc['diagnostico_terciario'].fit_transform([[item.diagnostico_terciariocat]]))#diagnostico_terciario\n",
    "#dato_en.append(tablas_enc['cuarto_diagnostico'].fit_transform([[item.cuarto_diagnosticocat]]))#cuarto_diagnostico\n",
    "dato_en.append(int('120'))#T_a1\n",
    "dato_en.append(int('60'))#T_a2\n",
    "prediccion= clf1.predict([dato_en])\n",
    "lists = prediccion.tolist()\n",
    "prediccion2= clf2.predict(lists)\n",
    "lists2 = prediccion2.tolist()\n",
    "lists = prediccion.tolist()\n",
    "respuesta3=0\n",
    "respuesta3={\n",
    "            \"cups_solictud\":tablas_enc['cups_solictud'].inverse_transform([[prediccion[0][0]]])[0][0],\n",
    "            \"descripcion\" :tablas_enc['descripcion'].inverse_transform([[prediccion[0][1]]])[0][0],\n",
    "            \"cantidad\":tablas_enc['cantidad'].inverse_transform([[prediccion[0][2]]])[0][0],\n",
    "            \"prescripcion\": tablas_enc['prescripcion'].inverse_transform([[prediccion[0][3]]])[0][0][0][0],\n",
    "            \"tipo\": tablas_enc['tipo'].inverse_transform([[prediccion[0][4]]])[0][0],\n",
    "            \"codigo_medicamento\":tablas_enc['codigo_medicamento'].inverse_transform([[prediccion2[0][0]]])[0][0],\n",
    "            \"descripcion_medicamento\":tablas_enc['descripcion_medicamento'].inverse_transform([[prediccion2[0][1]]])[0][0],\n",
    "            \"cantidad_medicamento\":tablas_enc['cantidad_medicamento'].inverse_transform([[prediccion2[0][2]]])[0][0],\n",
    "            \"prescripcion_medicamento\":tablas_enc['prescripcion_medicamento'].inverse_transform([[prediccion2[0][3]]])[0][0],\n",
    "            #\"presentacion\":tablas_enc['presentacion'].inverse_transform([[prediccion2[0][4]]])[0][0]\n",
    "        }"
   ]
  },
  {
   "cell_type": "code",
   "execution_count": 21,
   "metadata": {},
   "outputs": [
    {
     "data": {
      "text/plain": [
       "{'cups_solictud': ' -903028.0-0.0-0.0',\n",
       " 'descripcion': ' -MICROALBUMINURIA SEMIAUTOMATIZADA-0-0',\n",
       " 'cantidad': ' -1.0',\n",
       " 'prescripcion': ' ',\n",
       " 'tipo': ' -Laboratorios',\n",
       " 'codigo_medicamento': ' -0',\n",
       " 'descripcion_medicamento': '-0',\n",
       " 'cantidad_medicamento': '-0.0',\n",
       " 'prescripcion_medicamento': '-0'}"
      ]
     },
     "execution_count": 21,
     "metadata": {},
     "output_type": "execute_result"
    }
   ],
   "source": [
    "respuesta3"
   ]
  }
 ],
 "metadata": {
  "kernelspec": {
   "display_name": "Python 3.7.0 ('mypython3')",
   "language": "python",
   "name": "python3"
  },
  "language_info": {
   "codemirror_mode": {
    "name": "ipython",
    "version": 3
   },
   "file_extension": ".py",
   "mimetype": "text/x-python",
   "name": "python",
   "nbconvert_exporter": "python",
   "pygments_lexer": "ipython3",
   "version": "3.10.6"
  },
  "orig_nbformat": 4,
  "vscode": {
   "interpreter": {
    "hash": "ce2dcef5802a77b227aecfe8ac7c771aedf0d940694408e828700019bece0b81"
   }
  }
 },
 "nbformat": 4,
 "nbformat_minor": 2
}
